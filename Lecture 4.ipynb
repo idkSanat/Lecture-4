{
 "cells": [
  {
   "cell_type": "markdown",
   "metadata": {},
   "source": [
    "# Classwork Lecture 4\n",
    "\n",
    "In this exercise, you'll get familiar with the following basics of python:\n",
    "\n",
    "- String Functions\n",
    "- If Else Statements\n",
    "- For Loops"
   ]
  },
  {
   "cell_type": "markdown",
   "metadata": {},
   "source": [
    "## Student Details\n",
    "\n",
    "- Name: Sanat Sawant\n",
    "- Division: A\n",
    "- Roll: 33"
   ]
  },
  {
   "cell_type": "markdown",
   "metadata": {},
   "source": [
    "# String Functions\n",
    "\n",
    "Python has a set of built-in methods that you can use on strings. Please complete the following short exercise to learn more about the different string functions. \n",
    "\n",
    "[See Reference Library of String Functions](https://www.w3schools.com/python/python_ref_string.asp)\n"
   ]
  },
  {
   "cell_type": "markdown",
   "metadata": {},
   "source": [
    "## Part 1"
   ]
  },
  {
   "cell_type": "code",
   "execution_count": 13,
   "metadata": {},
   "outputs": [],
   "source": [
    "# Name\n",
    "student_name = \"sanat\"\n",
    "\n",
    "#Empty String\n",
    "empty_string = \"\"\n",
    "\n",
    "#String with numeric values in it\n",
    "numeric_string = \"abc123\"\n"
   ]
  },
  {
   "cell_type": "code",
   "execution_count": 21,
   "metadata": {},
   "outputs": [
    {
     "data": {
      "text/plain": [
       "'sanat'"
      ]
     },
     "execution_count": 21,
     "metadata": {},
     "output_type": "execute_result"
    }
   ],
   "source": [
    "# Q1 A Create and print a variable called \"my_name\" that stores your name in all lower case\n",
    "my_name = \"sanat\"\n",
    "my_name"
   ]
  },
  {
   "cell_type": "code",
   "execution_count": 23,
   "metadata": {},
   "outputs": [
    {
     "data": {
      "text/plain": [
       "'Sanat'"
      ]
     },
     "execution_count": 23,
     "metadata": {},
     "output_type": "execute_result"
    }
   ],
   "source": [
    "# Q1 B Capitalize the first letter of \"my_name\" and then print it\n",
    "my_name = my_name.capitalize()\n",
    "my_name"
   ]
  },
  {
   "cell_type": "code",
   "execution_count": 24,
   "metadata": {},
   "outputs": [
    {
     "data": {
      "text/plain": [
       "'SANAT'"
      ]
     },
     "execution_count": 24,
     "metadata": {},
     "output_type": "execute_result"
    }
   ],
   "source": [
    "# Q1 C Capitalize all letters of \"my_name\" and then print it\n",
    "my_name = my_name.upper()\n",
    "my_name"
   ]
  },
  {
   "cell_type": "markdown",
   "metadata": {},
   "source": [
    "## Part 2"
   ]
  },
  {
   "cell_type": "code",
   "execution_count": 29,
   "metadata": {},
   "outputs": [
    {
     "data": {
      "text/plain": [
       "'I love apples, apples are my favorite fruit'"
      ]
     },
     "execution_count": 29,
     "metadata": {},
     "output_type": "execute_result"
    }
   ],
   "source": [
    "# Q2 A Create and print a variable called \"my_favorite_fruit\" \n",
    "# and make it store \"I love apples, apples are my favorite fruit\"\n",
    "\n",
    "my_favorite_fruit = \"I love apples, apples are my favorite fruit\"\n",
    "my_favorite_fruit"
   ]
  },
  {
   "cell_type": "code",
   "execution_count": 30,
   "metadata": {},
   "outputs": [
    {
     "data": {
      "text/plain": [
       "True"
      ]
     },
     "execution_count": 30,
     "metadata": {},
     "output_type": "execute_result"
    }
   ],
   "source": [
    "# Q2 B Print whether \"my_favorite_fruit\" ends with \"fruit\" \n",
    "my_favorite_fruit.endswith(\"fruit\")"
   ]
  },
  {
   "cell_type": "code",
   "execution_count": 33,
   "metadata": {},
   "outputs": [
    {
     "data": {
      "text/plain": [
       "2"
      ]
     },
     "execution_count": 33,
     "metadata": {},
     "output_type": "execute_result"
    }
   ],
   "source": [
    "# Q2 C Count and print the number of times the value \"apple\" appears in the string\n",
    "apple_count = my_favorite_fruit.count(\"apple\")\n",
    "apple_count"
   ]
  },
  {
   "cell_type": "code",
   "execution_count": 35,
   "metadata": {},
   "outputs": [
    {
     "data": {
      "text/plain": [
       "'I love bananas, bananas are my favorite fruit'"
      ]
     },
     "execution_count": 35,
     "metadata": {},
     "output_type": "execute_result"
    }
   ],
   "source": [
    "# Q2 D Replace \"apple\" with \"banana\" in \"my_favorite_fruit\"\n",
    "my_favorite_fruit = my_favorite_fruit.replace(\"apples\", \"bananas\")\n",
    "my_favorite_fruit"
   ]
  },
  {
   "cell_type": "code",
   "execution_count": 36,
   "metadata": {},
   "outputs": [
    {
     "data": {
      "text/plain": [
       "'I Love Bananas, Bananas Are My Favorite Fruit'"
      ]
     },
     "execution_count": 36,
     "metadata": {},
     "output_type": "execute_result"
    }
   ],
   "source": [
    "# Q2 E Convert the first character of each word in \"my_favorite_fruit\" to upper case\n",
    "my_favorite_fruit = my_favorite_fruit.title()\n",
    "my_favorite_fruit"
   ]
  },
  {
   "cell_type": "code",
   "execution_count": 37,
   "metadata": {},
   "outputs": [
    {
     "data": {
      "text/plain": [
       "['I Love Bananas', 'Bananas Are My Favorite Fruit']"
      ]
     },
     "execution_count": 37,
     "metadata": {},
     "output_type": "execute_result"
    }
   ],
   "source": [
    "# Q2 F Split \"my_favorite_fruit\" on \",\" and print the result\n",
    "my_favorite_fruit_list = my_favorite_fruit.split(\", \")\n",
    "my_favorite_fruit_list"
   ]
  },
  {
   "cell_type": "markdown",
   "metadata": {},
   "source": [
    "# If Else Statements\n",
    "\n",
    "[See Reference](https://info370a-w19.github.io/python-basics/logic-and-conditionals.html)"
   ]
  },
  {
   "cell_type": "code",
   "execution_count": 39,
   "metadata": {},
   "outputs": [
    {
     "data": {
      "text/plain": [
       "54"
      ]
     },
     "execution_count": 39,
     "metadata": {},
     "output_type": "execute_result"
    }
   ],
   "source": [
    "mother_age = 54\n",
    "mother_age"
   ]
  },
  {
   "cell_type": "code",
   "execution_count": 40,
   "metadata": {},
   "outputs": [
    {
     "data": {
      "text/plain": [
       "55"
      ]
     },
     "execution_count": 40,
     "metadata": {},
     "output_type": "execute_result"
    }
   ],
   "source": [
    "father_age = 55\n",
    "father_age"
   ]
  },
  {
   "cell_type": "code",
   "execution_count": 59,
   "metadata": {},
   "outputs": [
    {
     "ename": "SyntaxError",
     "evalue": "invalid syntax (<ipython-input-59-a3e30baa2fcd>, line 10)",
     "output_type": "error",
     "traceback": [
      "\u001b[0;36m  File \u001b[0;32m\"<ipython-input-59-a3e30baa2fcd>\"\u001b[0;36m, line \u001b[0;32m10\u001b[0m\n\u001b[0;31m    else:\u001b[0m\n\u001b[0m    ^\u001b[0m\n\u001b[0;31mSyntaxError\u001b[0m\u001b[0;31m:\u001b[0m invalid syntax\n"
     ]
    }
   ],
   "source": [
    "#Mother Older \n",
    "def is_mother_older(mother_age,father_age):\n",
    "\n",
    "    if mother_age>father_age:\n",
    "         print(\"Mother is older to father\")\n",
    "    \n",
    "    elif mother_age == father_age:\n",
    "        print(\"Mother and father are the same age\")\n",
    "        \n",
    "        else:\n",
    "            print(\"Mother is older to father\")"
   ]
  },
  {
   "cell_type": "code",
   "execution_count": 60,
   "metadata": {},
   "outputs": [
    {
     "ename": "SyntaxError",
     "evalue": "invalid syntax (<ipython-input-60-f2019451ecab>, line 10)",
     "output_type": "error",
     "traceback": [
      "\u001b[0;36m  File \u001b[0;32m\"<ipython-input-60-f2019451ecab>\"\u001b[0;36m, line \u001b[0;32m10\u001b[0m\n\u001b[0;31m    (grade<35):\u001b[0m\n\u001b[0m               ^\u001b[0m\n\u001b[0;31mSyntaxError\u001b[0m\u001b[0;31m:\u001b[0m invalid syntax\n"
     ]
    }
   ],
   "source": [
    "#Pass Fail \n",
    "\n",
    "def pass_fail(grade):\n",
    "    if (grade > 35) :\n",
    "        print(\"pass\")\n",
    "        \n",
    "    elif grade == 35:\n",
    "        print (\"Just Passed\")\n",
    "    else:\n",
    "        (grade<35):\n",
    "        print(\"Fail\")"
   ]
  },
  {
   "cell_type": "code",
   "execution_count": null,
   "metadata": {},
   "outputs": [],
   "source": []
  },
  {
   "cell_type": "markdown",
   "metadata": {},
   "source": [
    "# Create a function that accepts the current temperature and returns \"is hot\" if the temperature is greater than 24 and returns \"is not hot\" if the temperature is equal to or below 24"
   ]
  },
  {
   "cell_type": "code",
   "execution_count": null,
   "metadata": {},
   "outputs": [],
   "source": []
  },
  {
   "cell_type": "code",
   "execution_count": null,
   "metadata": {},
   "outputs": [],
   "source": [
    "is_hot_or_not(23)"
   ]
  },
  {
   "cell_type": "markdown",
   "metadata": {},
   "source": [
    "# Grades\n",
    "\n",
    "- A Grade: 90 and above\n",
    "- B Grade: 70 and 89\n",
    "- C Grade: 50 and 69\n",
    "- D Grade: 35 and 49\n",
    "- F Grade: Anything below 35"
   ]
  },
  {
   "cell_type": "code",
   "execution_count": 62,
   "metadata": {},
   "outputs": [],
   "source": [
    "#Grader Function\n",
    "def grader(score):\n",
    "    if score>=90:\n",
    "        return \"A\"\n",
    "    elif score>=70 and score <=89:\n",
    "        return \"B\"\n",
    "    elif score>=50 and score <=69:\n",
    "        return \"C\"\n",
    "    elif score>=35 and score <=49:\n",
    "        return \"D\"\n",
    "    else:\n",
    "        return \"F\""
   ]
  },
  {
   "cell_type": "code",
   "execution_count": 66,
   "metadata": {},
   "outputs": [
    {
     "data": {
      "text/plain": [
       "'A'"
      ]
     },
     "execution_count": 66,
     "metadata": {},
     "output_type": "execute_result"
    }
   ],
   "source": [
    "sanat_grade = grader(90)\n",
    "sanat_grade"
   ]
  },
  {
   "cell_type": "code",
   "execution_count": 13,
   "metadata": {},
   "outputs": [],
   "source": [
    "# Create a function called \"goldilocks\" that accepts a numeric temperature value \n",
    "# and returns \"This porridge is too hot!\" if the temperature value is >= 80\n",
    "# and returns \"This porridge is just right\" if the temperature value is between 40 and 79\n",
    "# and returns \"This porridge is too cold\" if the temperature value is below 40\n",
    "\n"
   ]
  },
  {
   "cell_type": "code",
   "execution_count": null,
   "metadata": {},
   "outputs": [],
   "source": []
  },
  {
   "cell_type": "markdown",
   "metadata": {},
   "source": [
    "# For Loops"
   ]
  },
  {
   "cell_type": "code",
   "execution_count": 67,
   "metadata": {
    "scrolled": true
   },
   "outputs": [
    {
     "data": {
      "text/plain": [
       "['3 idiots', 'Endgame', 'PK', 'Dhoom']"
      ]
     },
     "execution_count": 67,
     "metadata": {},
     "output_type": "execute_result"
    }
   ],
   "source": [
    "# Create a list of your favorite movies\n",
    "movies = [\"3 idiots\",\"Endgame\",\"PK\",\"Dhoom\"]\n",
    "movies"
   ]
  },
  {
   "cell_type": "code",
   "execution_count": 68,
   "metadata": {},
   "outputs": [
    {
     "name": "stdout",
     "output_type": "stream",
     "text": [
      "I love 3 idiots\n",
      "I love Endgame\n",
      "I love PK\n",
      "I love Dhoom\n"
     ]
    }
   ],
   "source": [
    "# Create a for loop that prints each of your favorite movies with the text \"I love \"\n",
    "for movie in movies:\n",
    "    print(\"I love\",movie)"
   ]
  },
  {
   "cell_type": "code",
   "execution_count": 16,
   "metadata": {},
   "outputs": [],
   "source": [
    "# Create a list of your favorite cars and favorite colors"
   ]
  },
  {
   "cell_type": "code",
   "execution_count": 71,
   "metadata": {},
   "outputs": [],
   "source": [
    "cars = [\"Lamborghini\",\"Mercedes\",\"Audi\",\"Tesla\"]\n",
    "colours = [\"Red\",\"Blue\",\"Green\",\"Yellow\"]"
   ]
  },
  {
   "cell_type": "code",
   "execution_count": 73,
   "metadata": {},
   "outputs": [
    {
     "name": "stdout",
     "output_type": "stream",
     "text": [
      "Red ['Lamborghini', 'Mercedes', 'Audi', 'Tesla']\n",
      "Blue ['Lamborghini', 'Mercedes', 'Audi', 'Tesla']\n",
      "Green ['Lamborghini', 'Mercedes', 'Audi', 'Tesla']\n",
      "Yellow ['Lamborghini', 'Mercedes', 'Audi', 'Tesla']\n"
     ]
    }
   ],
   "source": [
    "# Create a nested for loop that prints your favorite car names for each favorite color\n",
    "for colour in colours:\n",
    "    print (colour,cars )"
   ]
  },
  {
   "cell_type": "code",
   "execution_count": null,
   "metadata": {},
   "outputs": [],
   "source": []
  },
  {
   "cell_type": "markdown",
   "metadata": {},
   "source": [
    "# Create a function that accepts a list of colors and a list of cars  and then returns the following\n",
    "\n",
    "- \"Yes it exists\" if the car combination \"Speed Red Mazda\" is possible\n",
    "- \"Does not exist\" if the car combination \"Speed Red Mazda\" is not possible"
   ]
  },
  {
   "cell_type": "code",
   "execution_count": 76,
   "metadata": {},
   "outputs": [],
   "source": [
    "def speed_red_mazda_exists(cars,colors):\n",
    "    for color in colors:\n",
    "        for car in cars:\n",
    "            if car == \"Mazda\" and color == \"Speed Red\" :\n",
    "                return \"It Exists\"\n",
    "            \n",
    "            return \"Does not exist\"\n"
   ]
  },
  {
   "cell_type": "code",
   "execution_count": 81,
   "metadata": {},
   "outputs": [
    {
     "data": {
      "text/plain": [
       "'Does not exist'"
      ]
     },
     "execution_count": 81,
     "metadata": {},
     "output_type": "execute_result"
    }
   ],
   "source": [
    "car_list_1 = [\"Ferrari\", \"Ford\"]\n",
    "color_list_1 = [\"Steel Grey\", \"Speed Red\"]\n",
    "speed_red_mazda_exists(car_list_1,color_list_1)"
   ]
  },
  {
   "cell_type": "code",
   "execution_count": 80,
   "metadata": {},
   "outputs": [
    {
     "data": {
      "text/plain": [
       "'Does not exist'"
      ]
     },
     "execution_count": 80,
     "metadata": {},
     "output_type": "execute_result"
    }
   ],
   "source": [
    "car_list_2 = [\"Honda\",\"Mazda\"]\n",
    "color_list_2 = [\"Steel Grey\", \"Speed Red\"]\n",
    "speed_red_mazda_exists(car_list_2,color_list_2)"
   ]
  },
  {
   "cell_type": "code",
   "execution_count": null,
   "metadata": {},
   "outputs": [],
   "source": []
  }
 ],
 "metadata": {
  "kernelspec": {
   "display_name": "Python 3",
   "language": "python",
   "name": "python3"
  },
  "language_info": {
   "codemirror_mode": {
    "name": "ipython",
    "version": 3
   },
   "file_extension": ".py",
   "mimetype": "text/x-python",
   "name": "python",
   "nbconvert_exporter": "python",
   "pygments_lexer": "ipython3",
   "version": "3.8.8"
  }
 },
 "nbformat": 4,
 "nbformat_minor": 4
}
